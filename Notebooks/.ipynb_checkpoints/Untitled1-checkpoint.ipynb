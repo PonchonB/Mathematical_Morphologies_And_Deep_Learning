{
 "cells": [
  {
   "cell_type": "code",
   "execution_count": 7,
   "metadata": {},
   "outputs": [],
   "source": [
    "import numpy as np\n",
    "import sys\n",
    "sys.path.append('/home/bastien/Documents/StageCMM/Auto-encoders/SourceCode')\n",
    "import bastien_utils\n",
    "from shallowAE import ShallowAE\n",
    "from sparseShallowAE import SparseShallowAE_KL, SparseShallowAE_L1\n",
    "import importlib\n",
    "\n",
    "PATH_TO_MODELS_DIR = \"../ShallowAE/\"\n",
    "PATH_TO_DATA = \"../\""
   ]
  },
  {
   "cell_type": "code",
   "execution_count": 2,
   "metadata": {},
   "outputs": [
    {
     "name": "stdout",
     "output_type": "stream",
     "text": [
      "x_train shape: (60000, 28, 28, 1)\n",
      "x_test shape: (10000, 28, 28, 1)\n",
      "x_small shape: (10, 28, 28, 1)\n"
     ]
    }
   ],
   "source": [
    "data = bastien_utils.load_data(PATH_TO_DATA, train=True, test=True, subsetTest=True)\n",
    "x_train, ytrain, x_test, y_test, x_small, y_small = data\n",
    "print('x_train shape:', x_train.shape)\n",
    "print('x_test shape:', x_test.shape)\n",
    "print('x_small shape:', x_small.shape)"
   ]
  },
  {
   "cell_type": "code",
   "execution_count": 22,
   "metadata": {
    "collapsed": true
   },
   "outputs": [],
   "source": [
    "import numpy as np\n",
    "import pandas as pd\n",
    "import bastien_utils\n",
    "from shallowAE import ShallowAE\n",
    "from sparseShallowAE import SparseShallowAE_KL, SparseShallowAE_L1\n",
    "import datetime\n",
    "\n",
    "PATH_TO_MODELS_DIR = \"../ShallowAE/\"\n",
    "PATH_TO_DATA = \"../\"\n",
    "\n",
    "def testShallowAE(latent_dimensions=[100], nb_epochs=200, svm=False, path_to_dir = \"../ShallowAE/\"):\n",
    "    data = bastien_utils.load_data(PATH_TO_DATA, train=True, test=True, subsetTest=False)\n",
    "    x_train, ytrain, x_test, y_test = data\n",
    "    d = datetime.date.today()\n",
    "    strDims = str(latent_dimensions[0]) + \"_\" + str(latent_dimensions[-1]) \n",
    "    strDate = d.strftime(\"%y_%m_%d\")\n",
    "    out_path = path_to_dir + \"/Simple/TestOutputs/\" + strDate\n",
    "    nb_run = len(latent_dimensions)\n",
    "    train_rec_errors = np.zeros(nb_run)\n",
    "    test_rec_errors = np.zeros(nb_run)\n",
    "    np.save(out_path +'_dims_' + strDims, latent_dimensions)\n",
    "\n",
    "    if svm:\n",
    "        SVM_classification_accuracy = np.zeros(nb_run)\n",
    "    try:\n",
    "        for idx, latent_dim in enumerate(latent_dimensions):\n",
    "            shAE = ShallowAE(latent_dim=latent_dim)\n",
    "            shAE.train(x_train, nb_epochs=nb_epochs, X_val=x_test, verbose=2)\n",
    "            shAE.save()\n",
    "            train_rec_errors[idx] = shAE.reconstruction_error(x_train)\n",
    "            test_rec_errors[idx] = shAE.reconstruction_error(x_test)\n",
    "            np.save(out_path +'_training_errors_' + strDims, train_rec_errors)\n",
    "            np.save(out_path +'_test_errors_' + strDims, test_rec_errors)\n",
    "            if svm:\n",
    "                SVM_classification_accuracy[idx] = shAE.best_SVM_classification_score(x_test, y_test, nb_values_C=2, nb_values_gamma=2)\n",
    "                np.save(out_path +'_svm_acc_' + strDims, SVM_classification_accuracy)\n",
    "    except:\n",
    "        if svm:\n",
    "            d = {'Dimension': latent_dimensions, 'Training reconstruction error': train_rec_errors, \n",
    "                 'Test reconstruction error':test_rec_errors, 'SVM classification accuracy': SVM_classification_accuracy}\n",
    "        else:\n",
    "            d = {'Dimension': latent_dimensions, 'Training reconstruction error': train_rec_errors, \n",
    "                 'Test reconstruction error':test_rec_errors}\n",
    "        output = pd.DataFrame(data=d)\n",
    "        output.to_csv(path_or_buf=out_path + '_results_' + strDims)\n",
    "    if svm:\n",
    "        d = {'Dimension': latent_dimensions, 'Training reconstruction error': train_rec_errors, \n",
    "            'Test reconstruction error':test_rec_errors, 'SVM classification accuracy': SVM_classification_accuracy}\n",
    "    else:\n",
    "        d = {'Dimension': latent_dimensions, 'Training reconstruction error': train_rec_errors, \n",
    "            'Test reconstruction error':test_rec_errors}\n",
    "    output = pd.DataFrame(data=d)\n",
    "    output.to_csv(path_or_buf=out_path + '_results_' + strDims)"
   ]
  },
  {
   "cell_type": "code",
   "execution_count": 5,
   "metadata": {},
   "outputs": [
    {
     "data": {
      "text/plain": [
       "784"
      ]
     },
     "execution_count": 5,
     "metadata": {},
     "output_type": "execute_result"
    }
   ],
   "source": [
    "28*28"
   ]
  },
  {
   "cell_type": "code",
   "execution_count": 23,
   "metadata": {},
   "outputs": [
    {
     "name": "stdout",
     "output_type": "stream",
     "text": [
      "Train on 60000 samples, validate on 10000 samples\n",
      "Epoch 1/5\n",
      "60000/60000 [==============================] - 4s 63us/step - loss: 0.1351 - val_loss: 0.0932\n",
      "Epoch 2/5\n",
      "60000/60000 [==============================] - 3s 56us/step - loss: 0.0826 - val_loss: 0.0767\n",
      "Epoch 3/5\n",
      "60000/60000 [==============================] - 3s 56us/step - loss: 0.0746 - val_loss: 0.0725\n",
      "Epoch 4/5\n",
      "60000/60000 [==============================] - 3s 57us/step - loss: 0.0715 - val_loss: 0.0700\n",
      "Epoch 5/5\n",
      "60000/60000 [==============================] - 3s 58us/step - loss: 0.0694 - val_loss: 0.0683\n",
      "Fitting 3 folds for each of 4 candidates, totalling 12 fits\n",
      "[CV] C=0.01, gamma=0.001 .............................................\n",
      "[CV] .............................. C=0.01, gamma=0.001, total=   4.0s\n",
      "[CV] C=0.01, gamma=0.001 .............................................\n"
     ]
    },
    {
     "name": "stderr",
     "output_type": "stream",
     "text": [
      "[Parallel(n_jobs=1)]: Done   1 out of   1 | elapsed:    5.9s remaining:    0.0s\n"
     ]
    },
    {
     "name": "stdout",
     "output_type": "stream",
     "text": [
      "[CV] .............................. C=0.01, gamma=0.001, total=   4.0s\n",
      "[CV] C=0.01, gamma=0.001 .............................................\n",
      "[CV] .............................. C=0.01, gamma=0.001, total=   4.1s\n",
      "[CV] C=0.01, gamma=100.0 .............................................\n",
      "[CV] .............................. C=0.01, gamma=100.0, total=   3.2s\n",
      "[CV] C=0.01, gamma=100.0 .............................................\n",
      "[CV] .............................. C=0.01, gamma=100.0, total=   3.2s\n",
      "[CV] C=0.01, gamma=100.0 .............................................\n",
      "[CV] .............................. C=0.01, gamma=100.0, total=   3.2s\n",
      "[CV] C=1000.0, gamma=0.001 ...........................................\n",
      "[CV] ............................ C=1000.0, gamma=0.001, total=   2.9s\n",
      "[CV] C=1000.0, gamma=0.001 ...........................................\n",
      "[CV] ............................ C=1000.0, gamma=0.001, total=   3.0s\n",
      "[CV] C=1000.0, gamma=0.001 ...........................................\n",
      "[CV] ............................ C=1000.0, gamma=0.001, total=   2.8s\n",
      "[CV] C=1000.0, gamma=100.0 ...........................................\n",
      "[CV] ............................ C=1000.0, gamma=100.0, total= 3.7min\n",
      "[CV] C=1000.0, gamma=100.0 ...........................................\n",
      "[CV] ............................ C=1000.0, gamma=100.0, total= 3.7min\n",
      "[CV] C=1000.0, gamma=100.0 ...........................................\n",
      "[CV] ............................ C=1000.0, gamma=100.0, total= 3.7min\n"
     ]
    },
    {
     "name": "stderr",
     "output_type": "stream",
     "text": [
      "[Parallel(n_jobs=1)]: Done  12 out of  12 | elapsed: 11.9min finished\n"
     ]
    },
    {
     "name": "stdout",
     "output_type": "stream",
     "text": [
      "Train on 60000 samples, validate on 10000 samples\n",
      "Epoch 1/5\n",
      "60000/60000 [==============================] - 4s 59us/step - loss: 0.1089 - val_loss: 0.0773\n",
      "Epoch 2/5\n",
      "60000/60000 [==============================] - 3s 54us/step - loss: 0.0728 - val_loss: 0.0679\n",
      "Epoch 3/5\n",
      "60000/60000 [==============================] - 3s 55us/step - loss: 0.0636 - val_loss: 0.0592\n",
      "Epoch 4/5\n",
      "60000/60000 [==============================] - 3s 56us/step - loss: 0.0567 - val_loss: 0.0543\n",
      "Epoch 5/5\n",
      "60000/60000 [==============================] - 3s 55us/step - loss: 0.0530 - val_loss: 0.0515\n",
      "Fitting 3 folds for each of 4 candidates, totalling 12 fits\n",
      "[CV] C=0.01, gamma=0.001 .............................................\n",
      "[CV] .............................. C=0.01, gamma=0.001, total=   4.6s\n",
      "[CV] C=0.01, gamma=0.001 .............................................\n"
     ]
    },
    {
     "name": "stderr",
     "output_type": "stream",
     "text": [
      "[Parallel(n_jobs=1)]: Done   1 out of   1 | elapsed:    6.8s remaining:    0.0s\n"
     ]
    },
    {
     "name": "stdout",
     "output_type": "stream",
     "text": [
      "[CV] .............................. C=0.01, gamma=0.001, total=   4.7s\n",
      "[CV] C=0.01, gamma=0.001 .............................................\n",
      "[CV] .............................. C=0.01, gamma=0.001, total=   4.6s\n",
      "[CV] C=0.01, gamma=100.0 .............................................\n",
      "[CV] .............................. C=0.01, gamma=100.0, total=   5.0s\n",
      "[CV] C=0.01, gamma=100.0 .............................................\n",
      "[CV] .............................. C=0.01, gamma=100.0, total=   5.0s\n",
      "[CV] C=0.01, gamma=100.0 .............................................\n",
      "[CV] .............................. C=0.01, gamma=100.0, total=   5.0s\n",
      "[CV] C=1000.0, gamma=0.001 ...........................................\n",
      "[CV] ............................ C=1000.0, gamma=0.001, total=   1.5s\n",
      "[CV] C=1000.0, gamma=0.001 ...........................................\n",
      "[CV] ............................ C=1000.0, gamma=0.001, total=   1.5s\n",
      "[CV] C=1000.0, gamma=0.001 ...........................................\n",
      "[CV] ............................ C=1000.0, gamma=0.001, total=   1.5s\n",
      "[CV] C=1000.0, gamma=100.0 ...........................................\n",
      "[CV] ............................ C=1000.0, gamma=100.0, total=   9.8s\n",
      "[CV] C=1000.0, gamma=100.0 ...........................................\n",
      "[CV] ............................ C=1000.0, gamma=100.0, total=   9.5s\n",
      "[CV] C=1000.0, gamma=100.0 ...........................................\n",
      "[CV] ............................ C=1000.0, gamma=100.0, total=  10.3s\n"
     ]
    },
    {
     "name": "stderr",
     "output_type": "stream",
     "text": [
      "[Parallel(n_jobs=1)]: Done  12 out of  12 | elapsed:  1.4min finished\n"
     ]
    }
   ],
   "source": [
    "testShallowAE([1, 5], nb_epochs=5, svm=True)"
   ]
  },
  {
   "cell_type": "code",
   "execution_count": 24,
   "metadata": {
    "collapsed": true
   },
   "outputs": [],
   "source": [
    "a = pd.DataFrame.from_csv('../ShallowAE/Simple/TestOutputs/18_07_05_results_1_5')"
   ]
  },
  {
   "cell_type": "code",
   "execution_count": 25,
   "metadata": {},
   "outputs": [
    {
     "data": {
      "text/html": [
       "<div>\n",
       "<style>\n",
       "    .dataframe thead tr:only-child th {\n",
       "        text-align: right;\n",
       "    }\n",
       "\n",
       "    .dataframe thead th {\n",
       "        text-align: left;\n",
       "    }\n",
       "\n",
       "    .dataframe tbody tr th {\n",
       "        vertical-align: top;\n",
       "    }\n",
       "</style>\n",
       "<table border=\"1\" class=\"dataframe\">\n",
       "  <thead>\n",
       "    <tr style=\"text-align: right;\">\n",
       "      <th></th>\n",
       "      <th>Dimension</th>\n",
       "      <th>SVM classification error</th>\n",
       "      <th>Test reconstruction error</th>\n",
       "      <th>Training reconstruction error</th>\n",
       "    </tr>\n",
       "  </thead>\n",
       "  <tbody>\n",
       "    <tr>\n",
       "      <th>0</th>\n",
       "      <td>1</td>\n",
       "      <td>0.296</td>\n",
       "      <td>0.068288</td>\n",
       "      <td>0.068585</td>\n",
       "    </tr>\n",
       "    <tr>\n",
       "      <th>1</th>\n",
       "      <td>5</td>\n",
       "      <td>0.590</td>\n",
       "      <td>0.051542</td>\n",
       "      <td>0.051707</td>\n",
       "    </tr>\n",
       "  </tbody>\n",
       "</table>\n",
       "</div>"
      ],
      "text/plain": [
       "   Dimension  SVM classification error  Test reconstruction error  \\\n",
       "0          1                     0.296                   0.068288   \n",
       "1          5                     0.590                   0.051542   \n",
       "\n",
       "   Training reconstruction error  \n",
       "0                       0.068585  \n",
       "1                       0.051707  "
      ]
     },
     "execution_count": 25,
     "metadata": {},
     "output_type": "execute_result"
    }
   ],
   "source": [
    "a"
   ]
  }
 ],
 "metadata": {
  "kernelspec": {
   "display_name": "Python 3",
   "language": "python",
   "name": "python3"
  },
  "language_info": {
   "codemirror_mode": {
    "name": "ipython",
    "version": 3
   },
   "file_extension": ".py",
   "mimetype": "text/x-python",
   "name": "python",
   "nbconvert_exporter": "python",
   "pygments_lexer": "ipython3",
   "version": "3.6.3"
  }
 },
 "nbformat": 4,
 "nbformat_minor": 2
}
