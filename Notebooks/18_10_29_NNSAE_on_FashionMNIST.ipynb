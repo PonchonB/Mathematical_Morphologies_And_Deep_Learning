{
 "cells": [
  {
   "cell_type": "markdown",
   "metadata": {},
   "source": [
    "# Sparse and Non Negative Shallow Auto Encoder without AMD\n",
    "* Sparsity Regularizer : Difference between Hoyer sparsity measure and objective value (0.6).\n",
    "* Non-Negativity Regularizer : Non Negativity Constraint\n",
    "* Number of epochs for training: 500 epochs\n",
    "* Activation of the encoder: Sigmoid\n",
    "* Activation of the decoder: LeakyRELU (useless in case of Non-Negativity)\n",
    "## Impact of the value of the sparsity parameters\n",
    "* Sparsity objective: 0.6\n",
    "* Sparsity weight: 0.1, 0.5, 1, 5\n",
    "\n"
   ]
  },
  {
   "cell_type": "code",
   "execution_count": 1,
   "metadata": {},
   "outputs": [
    {
     "name": "stderr",
     "output_type": "stream",
     "text": [
      "Using TensorFlow backend.\n"
     ]
    }
   ],
   "source": [
    "import numpy as np\n",
    "import sys\n",
    "import matplotlib.pyplot as plt\n",
    "sys.path.append('../SourceCode')\n",
    "import bastien_utils\n",
    "from NNSAE.NNSAE import NNSAE\n",
    "import datetime\n",
    "import morphoMaths\n",
    "import pandas as pd"
   ]
  },
  {
   "cell_type": "code",
   "execution_count": 2,
   "metadata": {},
   "outputs": [
    {
     "name": "stdout",
     "output_type": "stream",
     "text": [
      "x_small shape: (10, 28, 28, 1)\n",
      "x_test shape: (10000, 28, 28, 1)\n",
      "x_train shape: (60000, 28, 28, 1)\n"
     ]
    }
   ],
   "source": [
    "FILE_PATH = \"../\"\n",
    "x_train, _, x_test, y_test = bastien_utils.load_data(FILE_PATH, train=True, test=True, subsetTest=False)\n",
    "x_small = x_test[:10]\n",
    "x_small[2] = x_test[31]\n",
    "print('x_small shape:', x_small.shape)\n",
    "print('x_test shape:', x_test.shape)\n",
    "print('x_train shape:', x_train.shape)"
   ]
  },
  {
   "cell_type": "code",
   "execution_count": 3,
   "metadata": {},
   "outputs": [
    {
     "name": "stdout",
     "output_type": "stream",
     "text": [
      "(784, 100)\n"
     ]
    }
   ],
   "source": [
    "AE = NNSAE(28*28, 100)"
   ]
  },
  {
   "cell_type": "code",
   "execution_count": 4,
   "metadata": {
    "collapsed": true
   },
   "outputs": [],
   "source": [
    "AE_a = np.load('../Results/NNSAE/18_10_29_FashionMNIST/18_10_29_AE_a_100epochs.npy')\n",
    "AE_b = np.load('../Results/NNSAE/18_10_29_FashionMNIST/18_10_29_AE_b_100epochs.npy')\n",
    "AE_W = np.load('../Results/NNSAE/18_10_29_FashionMNIST/18_10_29_AE_W_100epochs.npy')"
   ]
  },
  {
   "cell_type": "code",
   "execution_count": 5,
   "metadata": {
    "collapsed": true
   },
   "outputs": [],
   "source": [
    "AE.a = AE_a\n",
    "AE.b = AE_b\n",
    "AE.W = AE_W"
   ]
  },
  {
   "cell_type": "code",
   "execution_count": 6,
   "metadata": {
    "collapsed": true
   },
   "outputs": [],
   "source": [
    "N, nb_rows, nb_columns, nb_channels = x_train.shape"
   ]
  },
  {
   "cell_type": "code",
   "execution_count": 5,
   "metadata": {
    "scrolled": true
   },
   "outputs": [
    {
     "name": "stdout",
     "output_type": "stream",
     "text": [
      "Sample  1000\n",
      "Sample  2000\n",
      "Sample  3000\n",
      "Sample  4000\n",
      "Sample  5000\n",
      "Sample  6000\n",
      "Sample  7000\n",
      "Sample  8000\n",
      "Sample  9000\n",
      "Sample  10000\n",
      "Sample  11000\n",
      "Sample  12000\n",
      "Sample  13000\n",
      "Sample  14000\n",
      "Sample  15000\n",
      "Sample  16000\n",
      "Sample  17000\n",
      "Sample  18000\n",
      "Sample  19000\n",
      "Sample  20000\n",
      "Sample  21000\n",
      "Sample  22000\n",
      "Sample  23000\n",
      "Sample  24000\n",
      "Sample  25000\n",
      "Sample  26000\n",
      "Sample  27000\n",
      "Sample  28000\n",
      "Sample  29000\n",
      "Sample  30000\n",
      "Sample  31000\n",
      "Sample  32000\n",
      "Sample  33000\n",
      "Sample  34000\n",
      "Sample  35000\n",
      "Sample  36000\n",
      "Sample  37000\n",
      "Sample  38000\n",
      "Sample  39000\n",
      "Sample  40000\n",
      "Sample  41000\n",
      "Sample  42000\n",
      "Sample  43000\n",
      "Sample  44000\n",
      "Sample  45000\n",
      "Sample  46000\n",
      "Sample  47000\n",
      "Sample  48000\n",
      "Sample  49000\n",
      "Sample  50000\n",
      "Sample  51000\n",
      "Sample  52000\n",
      "Sample  53000\n",
      "Sample  54000\n",
      "Sample  55000\n",
      "Sample  56000\n",
      "Sample  57000\n",
      "Sample  58000\n",
      "Sample  59000\n"
     ]
    }
   ],
   "source": [
    "AE.train(x_train.reshape(N, nb_rows*nb_columns))"
   ]
  },
  {
   "cell_type": "code",
   "execution_count": 5,
   "metadata": {},
   "outputs": [
    {
     "name": "stdout",
     "output_type": "stream",
     "text": [
      "*****Epoch  0 *****\n",
      "*****Epoch  1 *****\n",
      "*****Epoch  2 *****\n",
      "*****Epoch  3 *****\n",
      "*****Epoch  4 *****\n",
      "*****Epoch  5 *****\n",
      "*****Epoch  6 *****\n",
      "*****Epoch  7 *****\n",
      "*****Epoch  8 *****\n",
      "*****Epoch  9 *****\n",
      "*****Epoch  10 *****\n",
      "*****Epoch  11 *****\n",
      "*****Epoch  12 *****\n",
      "*****Epoch  13 *****\n",
      "*****Epoch  14 *****\n",
      "*****Epoch  15 *****\n",
      "*****Epoch  16 *****\n",
      "*****Epoch  17 *****\n",
      "*****Epoch  18 *****\n",
      "*****Epoch  19 *****\n",
      "*****Epoch  20 *****\n",
      "*****Epoch  21 *****\n",
      "*****Epoch  22 *****\n",
      "*****Epoch  23 *****\n",
      "*****Epoch  24 *****\n",
      "*****Epoch  25 *****\n",
      "*****Epoch  26 *****\n",
      "*****Epoch  27 *****\n",
      "*****Epoch  28 *****\n",
      "*****Epoch  29 *****\n",
      "*****Epoch  30 *****\n",
      "*****Epoch  31 *****\n",
      "*****Epoch  32 *****\n",
      "*****Epoch  33 *****\n",
      "*****Epoch  34 *****\n",
      "*****Epoch  35 *****\n",
      "*****Epoch  36 *****\n",
      "*****Epoch  37 *****\n",
      "*****Epoch  38 *****\n",
      "*****Epoch  39 *****\n",
      "*****Epoch  40 *****\n",
      "*****Epoch  41 *****\n",
      "*****Epoch  42 *****\n",
      "*****Epoch  43 *****\n",
      "*****Epoch  44 *****\n",
      "*****Epoch  45 *****\n",
      "*****Epoch  46 *****\n",
      "*****Epoch  47 *****\n",
      "*****Epoch  48 *****\n",
      "*****Epoch  49 *****\n",
      "*****Epoch  50 *****\n",
      "*****Epoch  51 *****\n",
      "*****Epoch  52 *****\n",
      "*****Epoch  53 *****\n",
      "*****Epoch  54 *****\n",
      "*****Epoch  55 *****\n",
      "*****Epoch  56 *****\n",
      "*****Epoch  57 *****\n",
      "*****Epoch  58 *****\n",
      "*****Epoch  59 *****\n",
      "*****Epoch  60 *****\n",
      "*****Epoch  61 *****\n",
      "*****Epoch  62 *****\n",
      "*****Epoch  63 *****\n",
      "*****Epoch  64 *****\n",
      "*****Epoch  65 *****\n",
      "*****Epoch  66 *****\n",
      "*****Epoch  67 *****\n",
      "*****Epoch  68 *****\n",
      "*****Epoch  69 *****\n",
      "*****Epoch  70 *****\n",
      "*****Epoch  71 *****\n",
      "*****Epoch  72 *****\n",
      "*****Epoch  73 *****\n",
      "*****Epoch  74 *****\n",
      "*****Epoch  75 *****\n",
      "*****Epoch  76 *****\n",
      "*****Epoch  77 *****\n",
      "*****Epoch  78 *****\n",
      "*****Epoch  79 *****\n",
      "*****Epoch  80 *****\n",
      "*****Epoch  81 *****\n",
      "*****Epoch  82 *****\n",
      "*****Epoch  83 *****\n",
      "*****Epoch  84 *****\n",
      "*****Epoch  85 *****\n",
      "*****Epoch  86 *****\n",
      "*****Epoch  87 *****\n",
      "*****Epoch  88 *****\n",
      "*****Epoch  89 *****\n",
      "*****Epoch  90 *****\n",
      "*****Epoch  91 *****\n",
      "*****Epoch  92 *****\n",
      "*****Epoch  93 *****\n",
      "*****Epoch  94 *****\n",
      "*****Epoch  95 *****\n",
      "*****Epoch  96 *****\n",
      "*****Epoch  97 *****\n",
      "*****Epoch  98 *****\n",
      "*****Epoch  99 *****\n"
     ]
    }
   ],
   "source": [
    "nb_epochs = 100\n",
    "for e in range(nb_epochs):\n",
    "    print(\"*****Epoch \", e, \"*****\")\n",
    "    AE.train(x_train.reshape(N, nb_rows*nb_columns))"
   ]
  },
  {
   "cell_type": "code",
   "execution_count": 9,
   "metadata": {},
   "outputs": [],
   "source": [
    "x_rec_small = AE.apply(x_small.reshape(10, nb_rows*nb_columns)).reshape(10, 28, 28, 1)"
   ]
  },
  {
   "cell_type": "code",
   "execution_count": 10,
   "metadata": {},
   "outputs": [
    {
     "data": {
      "image/png": "[encoded data removed]",
      "text/plain": [
       "<Figure size 1440x288 with 10 Axes>"
      ]
     },
     "metadata": {},
     "output_type": "display_data"
    }
   ],
   "source": [
    "bastien_utils.plot_all_images(x_rec_small)"
   ]
  },
  {
   "cell_type": "code",
   "execution_count": 20,
   "metadata": {},
   "outputs": [
    {
     "data": {
      "text/plain": [
       "(array([165.,  75.,  77.,  85., 110.,  93.,  62.,  50.,  43.,  24.]),\n",
       " array([0.        , 0.03286558, 0.06573116, 0.09859674, 0.13146232,\n",
       "        0.1643279 , 0.19719348, 0.23005905, 0.26292463, 0.29579021,\n",
       "        0.32865579]),\n",
       " <a list of 10 Patch objects>)"
      ]
     },
     "execution_count": 20,
     "metadata": {},
     "output_type": "execute_result"
    },
    {
     "data": {
      "image/png": "[encoded data removed]",
      "text/plain": [
       "<Figure size 432x288 with 1 Axes>"
      ]
     },
     "metadata": {},
     "output_type": "display_data"
    }
   ],
   "source": [
    "plt.hist(AE_W[:,90].flatten())"
   ]
  }
 ],
 "metadata": {
  "kernelspec": {
   "display_name": "StageCMM",
   "language": "python",
   "name": "stageenv"
  },
  "language_info": {
   "codemirror_mode": {
    "name": "ipython",
    "version": 3
   },
   "file_extension": ".py",
   "mimetype": "text/x-python",
   "name": "python",
   "nbconvert_exporter": "python",
   "pygments_lexer": "ipython3",
   "version": "3.6.6"
  }
 },
 "nbformat": 4,
 "nbformat_minor": 2
}
