{
 "cells": [
  {
   "cell_type": "code",
   "execution_count": 1,
   "metadata": {},
   "outputs": [
    {
     "name": "stderr",
     "output_type": "stream",
     "text": [
      "Using TensorFlow backend.\n"
     ]
    }
   ],
   "source": [
    "import numpy as np\n",
    "import matplotlib.pyplot as plt\n",
    "import keras\n",
    "from keras.models import Sequential\n",
    "from keras.layers.core import Dense, Dropout, Activation\n",
    "from keras.utils import np_utils\n",
    "from keras import layers\n",
    "from keras import backend as K\n",
    "from keras.engine.topology import Layer,InputSpec\n",
    "from keras import initializers,regularizers,constraints\n",
    "from keras.initializers import Initializer\n",
    "from keras import regularizers\n",
    "\n",
    "\n",
    "import tensorflow as tf\n",
    "from keras.layers import Lambda\n",
    "\n",
    "\n",
    "class MaxPlusDense(Layer):\n",
    "    \"\"\"A MaxPlus layer. TESTING MODE\n",
    "    A `MaxPlus` layer takes the (element-wise + Bias) maximum of\n",
    "      # Arguments\n",
    "        output_dim: int > 0.\n",
    "        init: name of initialization function for the weights of the layer\n",
    "            (see [initializations](../initializations.md)),\n",
    "            or alternatively, Theano function to use for weights\n",
    "            initialization. This parameter is only relevant\n",
    "            if you don't pass a `weights` argument.\n",
    "        weights: list of Numpy arrays to set as initial weights.\n",
    "            The list should have 2 elements, of shape `(input_dim, output_dim)`\n",
    "            and (output_dim,) for weights and biases respectively.\n",
    "        b_regularizer: instance of [WeightRegularizer](../regularizers.md),\n",
    "            applied to the bias.\n",
    "        activity_regularizer: instance of [ActivityRegularizer](../regularizers.md),\n",
    "            applied to the network output.\n",
    "        b_constraint: instance of the [constraints](../constraints.md) module,\n",
    "            applied to the bias.\n",
    "        bias: whether to include a bias\n",
    "            (i.e. make the layer affine rather than linear).\n",
    "        input_dim: dimensionality of the input (integer). This argument\n",
    "            (or alternatively, the keyword argument `input_shape`)\n",
    "            is required when using this layer as the first layer in a model.\n",
    "    # Input shape\n",
    "        2D tensor with shape: `(nb_samples, input_dim)`.\n",
    "    # Output shape\n",
    "        2D tensor with shape: `(nb_samples, output_dim)`.\n",
    "    \"\"\"\n",
    "\n",
    "    def __init__(self, output_dim,\n",
    "                 init='ones',\n",
    "                 weights=None,\n",
    "                 b_regularizer=None,\n",
    "                 activity_regularizer=None,\n",
    "                 b_constraint=None,\n",
    "                 bias=True,\n",
    "                 input_dim=None,\n",
    "                 **kwargs):\n",
    "        self.output_dim = output_dim\n",
    "        self.init = initializers.get(init)\n",
    "\n",
    "        self.b_regularizer = regularizers.get(b_regularizer)\n",
    "        self.activity_regularizer = regularizers.get(activity_regularizer)\n",
    "\n",
    "        self.b_constraint = constraints.get(b_constraint)\n",
    "\n",
    "        self.bias = bias\n",
    "        self.initial_weights = weights\n",
    "        self.input_spec = InputSpec(ndim=2)\n",
    "        self.input_dim = input_dim\n",
    "        self.nb_feature = input_dim\n",
    "        if self.input_dim:\n",
    "            kwargs['input_shape'] = (self.input_dim,)\n",
    "        super(MaxPlusDense, self).__init__(**kwargs)\n",
    "\n",
    "    def build(self, input_shape):\n",
    "        input_dim = input_shape[1]\n",
    "        self.nb_feature = input_dim \n",
    "        self.input_spec = InputSpec(dtype=K.floatx(),shape=(None, input_dim))\n",
    "        if self.bias:\n",
    "            self.b = self.add_weight((input_dim, self.output_dim,),\n",
    "                                     initializer='zero',\n",
    "                                     name='b',\n",
    "                                     regularizer=self.b_regularizer,\n",
    "                                     constraint=self.b_constraint)\n",
    "        else:\n",
    "            self.b = None\n",
    "\n",
    "        if self.initial_weights is not None:\n",
    "            self.set_weights(self.initial_weights)\n",
    "            del self.initial_weights\n",
    "        self.built = True\n",
    "\n",
    "    def compute_output_shape(self, input_shape):\n",
    "        assert input_shape and len(input_shape) == 2\n",
    "        return (input_shape[0], self.output_dim)\n",
    "\n",
    "    def call(self, x):\n",
    "        output=K.concatenate([K.reshape(x, [-1, self.nb_feature, 1])]*self.output_dim)\n",
    "        output -=self.b\n",
    "        output = K.max(output, axis=1)\n",
    "        return output\n",
    "        \n",
    "    def get_config(self):\n",
    "        config = {'output_dim': self.output_dim,\n",
    "                  'init': initializers.serialize(self.init),\n",
    "                  'nb_feature': self.nb_feature,\n",
    "                  'b_regularizer': regularizers.serialize(self.b_regularizer),\n",
    "                  'activity_regularizer': regularizers.serialize(self.activity_regularizer),\n",
    "                  'b_constraint': constraints.serialize(self.b_constraint),\n",
    "                  'bias': self.bias,\n",
    "                  'input_dim': self.input_dim}\n",
    "        base_config = super(MaxPlusDense, self).get_config()\n",
    "        return dict(list(base_config.items()) + list(config.items()))\n"
   ]
  },
  {
   "cell_type": "code",
   "execution_count": 2,
   "metadata": {
    "collapsed": true
   },
   "outputs": [],
   "source": [
    "class Constraint(object):\n",
    "\n",
    "    def __call__(self, w):\n",
    "        return w\n",
    "\n",
    "    def get_config(self):\n",
    "        return {}\n",
    "\n",
    "class non_neg_ones(Constraint):\n",
    "    \"\"\"Constrains the weights to be non-negative.\n",
    "    \"\"\"\n",
    "\n",
    "    def __call__(self, w):\n",
    "        w = K.cast(K.clip(w, 0.,1), K.floatx())\n",
    "        return w"
   ]
  },
  {
   "cell_type": "code",
   "execution_count": 4,
   "metadata": {
    "collapsed": true
   },
   "outputs": [],
   "source": [
    "#NOTE: USE Dropout after MaxPlusDense\n",
    "\n",
    "from keras.datasets import mnist\n",
    "from keras.models import Sequential\n",
    "from keras.layers import Dense, Dropout, Flatten\n",
    "from keras.layers import Conv2D, MaxPooling2D\n",
    "from keras import backend as K\n",
    "\n",
    "batch_size = 24\n",
    "\n",
    "# the data, split between train and test sets\n",
    "(x_train, y_train), (x_test, y_test) = mnist.load_data()\n"
   ]
  },
  {
   "cell_type": "code",
   "execution_count": 5,
   "metadata": {},
   "outputs": [
    {
     "name": "stdout",
     "output_type": "stream",
     "text": [
      "(60000, 28, 28) train samples\n",
      "(10000, 28, 28) test samples\n",
      "(240, 28, 28) train samples\n",
      "(240, 28, 28) test samples\n"
     ]
    }
   ],
   "source": [
    "img_rows, img_cols = 28, 28\n",
    "#dirf=dir('*.bmp');\n",
    "\n",
    "x_train=(x_train.astype('float32'))/255\n",
    "x_test=(x_test.astype('float32'))/255\n",
    "print(x_train.shape, 'train samples')\n",
    "print(x_test.shape, 'test samples')\n",
    "x_train=x_train[np.arange(240),:,:]\n",
    "x_test=x_test[np.arange(240),:,:]\n",
    "print(x_train.shape, 'train samples')\n",
    "print(x_test.shape, 'test samples')\n",
    "\n",
    "\n",
    "if K.image_data_format() == 'channels_first':\n",
    "    x_train = x_train.reshape(x_train.shape[0], 1, img_rows, img_cols)\n",
    "    x_test = x_test.reshape(x_test.shape[0], 1, img_rows, img_cols)\n",
    "    input_shape = (1, img_rows, img_cols)\n",
    "else:\n",
    "    x_train = x_train.reshape(x_train.shape[0], img_rows, img_cols, 1)\n",
    "    x_test = x_test.reshape(x_test.shape[0], img_rows, img_cols, 1)\n",
    "    input_shape = (img_rows, img_cols, 1)"
   ]
  },
  {
   "cell_type": "code",
   "execution_count": 6,
   "metadata": {},
   "outputs": [
    {
     "name": "stdout",
     "output_type": "stream",
     "text": [
      "(240, 28, 28, 1)\n"
     ]
    },
    {
     "data": {
      "image/png": "[encoded data removed]",
      "text/plain": [
       "<Figure size 432x288 with 1 Axes>"
      ]
     },
     "metadata": {},
     "output_type": "display_data"
    },
    {
     "data": {
      "image/png": "[encoded data removed]",
      "text/plain": [
       "<Figure size 432x288 with 1 Axes>"
      ]
     },
     "metadata": {},
     "output_type": "display_data"
    },
    {
     "data": {
      "image/png": "[encoded data removed]",
      "text/plain": [
       "<Figure size 432x288 with 1 Axes>"
      ]
     },
     "metadata": {},
     "output_type": "display_data"
    },
    {
     "data": {
      "image/png": "[encoded data removed]",
      "text/plain": [
       "<Figure size 432x288 with 1 Axes>"
      ]
     },
     "metadata": {},
     "output_type": "display_data"
    },
    {
     "data": {
      "image/png": "[encoded data removed]",
      "text/plain": [
       "<Figure size 432x288 with 1 Axes>"
      ]
     },
     "metadata": {},
     "output_type": "display_data"
    }
   ],
   "source": [
    "import skimage.morphology as skm\n",
    "dil_x_train=np.zeros(x_train.shape)\n",
    "print(x_train.shape)\n",
    "#SE=skm.rectangle(10,1)\n",
    "#SE=np.random.rand(21,21)\n",
    "#SE=SE>(SE.max()-.01)\n",
    "#SE=(SE>(SE.max()-.01))*np.power((SE-.1),3)\n",
    "SE=skm.disk(2)\n",
    "#SE2=skm.disk(2)\n",
    "for i in range(x_train.shape[0]):\n",
    "    dil_x_train[i,:,:,0]=skm.dilation(x_train[i,:,:][:,:,0],SE)\n",
    "plt.imshow(SE,clim=[0,1])\n",
    "plt.show()\n",
    "plt.imshow(x_train[[0][0],:,:,0],clim=[0,1])\n",
    "plt.show()\n",
    "plt.imshow(dil_x_train[[0][0],:,:,0],clim=[0,1])\n",
    "plt.show()\n",
    "plt.imshow(x_train[[1][0],:,:,0],clim=[0,1])\n",
    "plt.show()\n",
    "plt.imshow(dil_x_train[[1][0],:,:,0],clim=[0,1])\n",
    "plt.show()\n",
    "#print(SE)"
   ]
  },
  {
   "cell_type": "code",
   "execution_count": 7,
   "metadata": {},
   "outputs": [
    {
     "data": {
      "text/plain": [
       "(5, 5)"
      ]
     },
     "execution_count": 7,
     "metadata": {},
     "output_type": "execute_result"
    }
   ],
   "source": [
    "SE.shape"
   ]
  },
  {
   "cell_type": "code",
   "execution_count": 8,
   "metadata": {},
   "outputs": [
    {
     "name": "stdout",
     "output_type": "stream",
     "text": [
      "_________________________________________________________________\n",
      "Layer (type)                 Output Shape              Param #   \n",
      "=================================================================\n",
      "input_1 (InputLayer)         (None, 28, 28, 1)         0         \n",
      "_________________________________________________________________\n",
      "flatten_1 (Flatten)          (None, 784)               0         \n",
      "_________________________________________________________________\n",
      "MaxPlus7 (MaxPlusDense)      (None, 784)               614656    \n",
      "_________________________________________________________________\n",
      "reshape_1 (Reshape)          (None, 28, 28, 1)         0         \n",
      "=================================================================\n",
      "Total params: 614,656\n",
      "Trainable params: 614,656\n",
      "Non-trainable params: 0\n",
      "_________________________________________________________________\n",
      "(240, 28, 28, 1)\n",
      "(240, 28, 28, 1)\n"
     ]
    }
   ],
   "source": [
    "from keras.models import Model\n",
    "from keras.layers import Input\n",
    "from  keras.layers import Reshape\n",
    "from keras.layers import Concatenate\n",
    "from keras.layers import Maximum\n",
    "from keras.constraints import non_neg\n",
    "\n",
    "input_shape_decoder = (img_rows, img_cols,1)\n",
    "input1 = Input(shape=input_shape)\n",
    "x1=Flatten()(input1)\n",
    "x2 = MaxPlusDense(img_rows*img_cols,b_constraint=non_neg_ones(),name='MaxPlus7')(x1)\n",
    "xx=Reshape([28,28,1])(x2)\n",
    "decoder_model=Model(input1,xx)\n",
    "decoder_model.summary()\n",
    "\n",
    "print(x_train.shape)\n",
    "print(dil_x_train.shape)"
   ]
  },
  {
   "cell_type": "code",
   "execution_count": 9,
   "metadata": {
    "scrolled": true
   },
   "outputs": [
    {
     "name": "stdout",
     "output_type": "stream",
     "text": [
      "Epoch 1/100\n",
      "240/240 [==============================] - 2s 10ms/step - loss: 0.6222 - mean_absolute_error: 0.6640\n",
      "Epoch 2/100\n",
      "240/240 [==============================] - 2s 10ms/step - loss: 0.4102 - mean_absolute_error: 0.5333\n",
      "Epoch 3/100\n",
      "240/240 [==============================] - 2s 10ms/step - loss: 0.2452 - mean_absolute_error: 0.4063\n",
      "Epoch 4/100\n",
      "240/240 [==============================] - 2s 10ms/step - loss: 0.1408 - mean_absolute_error: 0.3021\n",
      "Epoch 5/100\n",
      "240/240 [==============================] - 2s 10ms/step - loss: 0.0758 - mean_absolute_error: 0.2131\n",
      "Epoch 6/100\n",
      "240/240 [==============================] - 2s 10ms/step - loss: 0.0371 - mean_absolute_error: 0.1357\n",
      "Epoch 7/100\n",
      "240/240 [==============================] - 3s 11ms/step - loss: 0.0186 - mean_absolute_error: 0.0803\n",
      "Epoch 8/100\n",
      "240/240 [==============================] - 2s 9ms/step - loss: 0.0099 - mean_absolute_error: 0.0417\n",
      "Epoch 9/100\n",
      "240/240 [==============================] - 2s 10ms/step - loss: 0.0062 - mean_absolute_error: 0.0231\n",
      "Epoch 10/100\n",
      "240/240 [==============================] - 2s 10ms/step - loss: 0.0042 - mean_absolute_error: 0.0150\n",
      "Epoch 11/100\n",
      "240/240 [==============================] - 2s 9ms/step - loss: 0.0030 - mean_absolute_error: 0.0105\n",
      "Epoch 12/100\n",
      "240/240 [==============================] - 2s 10ms/step - loss: 0.0021 - mean_absolute_error: 0.0076\n",
      "Epoch 13/100\n",
      "240/240 [==============================] - 2s 10ms/step - loss: 0.0014 - mean_absolute_error: 0.0056\n",
      "Epoch 14/100\n",
      "240/240 [==============================] - 3s 11ms/step - loss: 9.8146e-04 - mean_absolute_error: 0.0042\n",
      "Epoch 15/100\n",
      "240/240 [==============================] - 3s 10ms/step - loss: 6.7680e-04 - mean_absolute_error: 0.0031\n",
      "Epoch 16/100\n",
      "240/240 [==============================] - 2s 10ms/step - loss: 4.6246e-04 - mean_absolute_error: 0.0023\n",
      "Epoch 17/100\n",
      "240/240 [==============================] - 2s 9ms/step - loss: 3.0983e-04 - mean_absolute_error: 0.0017\n",
      "Epoch 18/100\n",
      "240/240 [==============================] - 2s 9ms/step - loss: 2.0805e-04 - mean_absolute_error: 0.0013\n",
      "Epoch 19/100\n",
      "240/240 [==============================] - 2s 9ms/step - loss: 1.3631e-04 - mean_absolute_error: 9.0513e-04\n",
      "Epoch 20/100\n",
      "240/240 [==============================] - 2s 9ms/step - loss: 8.9201e-05 - mean_absolute_error: 6.4421e-04\n",
      "Epoch 21/100\n",
      "240/240 [==============================] - 2s 9ms/step - loss: 5.7533e-05 - mean_absolute_error: 4.4292e-04\n",
      "Epoch 22/100\n",
      "240/240 [==============================] - 2s 10ms/step - loss: 3.7404e-05 - mean_absolute_error: 2.9694e-04\n",
      "Epoch 23/100\n",
      "240/240 [==============================] - 2s 9ms/step - loss: 2.3792e-05 - mean_absolute_error: 1.9666e-04\n",
      "Epoch 24/100\n",
      "240/240 [==============================] - 2s 10ms/step - loss: 1.5703e-05 - mean_absolute_error: 1.3486e-04\n",
      "Epoch 25/100\n",
      "240/240 [==============================] - 2s 10ms/step - loss: 1.1039e-05 - mean_absolute_error: 9.5500e-05\n",
      "Epoch 26/100\n",
      "240/240 [==============================] - 2s 9ms/step - loss: 7.6048e-06 - mean_absolute_error: 6.4589e-05\n",
      "Epoch 27/100\n",
      "240/240 [==============================] - 2s 9ms/step - loss: 5.7255e-06 - mean_absolute_error: 4.6573e-05\n",
      "Epoch 28/100\n",
      "240/240 [==============================] - 2s 9ms/step - loss: 3.8690e-06 - mean_absolute_error: 3.3246e-05\n",
      "Epoch 29/100\n",
      "240/240 [==============================] - 2s 9ms/step - loss: 2.5797e-06 - mean_absolute_error: 2.3464e-05\n",
      "Epoch 30/100\n",
      "240/240 [==============================] - 2s 10ms/step - loss: 1.6528e-06 - mean_absolute_error: 1.5791e-05\n",
      "Epoch 31/100\n",
      "240/240 [==============================] - 2s 10ms/step - loss: 1.2058e-06 - mean_absolute_error: 1.2167e-05\n",
      "Epoch 32/100\n",
      "240/240 [==============================] - 3s 11ms/step - loss: 8.4241e-07 - mean_absolute_error: 9.2602e-06\n",
      "Epoch 33/100\n",
      "240/240 [==============================] - 2s 10ms/step - loss: 6.0210e-07 - mean_absolute_error: 7.3402e-06\n",
      "Epoch 34/100\n",
      "240/240 [==============================] - 2s 10ms/step - loss: 3.5262e-07 - mean_absolute_error: 5.0978e-06\n",
      "Epoch 35/100\n",
      "240/240 [==============================] - 2s 10ms/step - loss: 2.5128e-07 - mean_absolute_error: 3.8262e-06\n",
      "Epoch 36/100\n",
      "240/240 [==============================] - 2s 10ms/step - loss: 1.6938e-07 - mean_absolute_error: 2.8468e-06\n",
      "Epoch 37/100\n",
      "240/240 [==============================] - 2s 9ms/step - loss: 1.0629e-07 - mean_absolute_error: 1.7843e-06\n",
      "Epoch 38/100\n",
      "240/240 [==============================] - 2s 10ms/step - loss: 7.0343e-08 - mean_absolute_error: 1.3013e-06\n",
      "Epoch 39/100\n",
      "240/240 [==============================] - 3s 11ms/step - loss: 1.5142e-08 - mean_absolute_error: 6.7135e-07\n",
      "Epoch 40/100\n",
      "240/240 [==============================] - 2s 10ms/step - loss: 4.0283e-09 - mean_absolute_error: 3.0832e-07\n",
      "Epoch 41/100\n",
      "240/240 [==============================] - 2s 10ms/step - loss: 1.7714e-09 - mean_absolute_error: 1.1903e-07\n",
      "Epoch 42/100\n",
      "240/240 [==============================] - 2s 10ms/step - loss: 0.0000e+00 - mean_absolute_error: 0.0000e+00\n",
      "Epoch 43/100\n",
      "240/240 [==============================] - 2s 10ms/step - loss: 0.0000e+00 - mean_absolute_error: 0.0000e+00\n",
      "Epoch 44/100\n",
      "192/240 [=======================>......] - ETA: 0s - loss: 0.0000e+00 - mean_absolute_error: 0.0000e+00"
     ]
    },
    {
     "ename": "KeyboardInterrupt",
     "evalue": "",
     "output_type": "error",
     "traceback": [
      "\u001b[0;31m---------------------------------------------------------------------------\u001b[0m",
      "\u001b[0;31mKeyboardInterrupt\u001b[0m                         Traceback (most recent call last)",
      "\u001b[0;32m<ipython-input-9-9487741d87a9>\u001b[0m in \u001b[0;36m<module>\u001b[0;34m()\u001b[0m\n\u001b[1;32m      6\u001b[0m           \u001b[0mbatch_size\u001b[0m\u001b[0;34m=\u001b[0m\u001b[0mbatch_size\u001b[0m\u001b[0;34m,\u001b[0m\u001b[0;34m\u001b[0m\u001b[0m\n\u001b[1;32m      7\u001b[0m           \u001b[0mepochs\u001b[0m\u001b[0;34m=\u001b[0m\u001b[0mepochs\u001b[0m\u001b[0;34m,\u001b[0m\u001b[0;34m\u001b[0m\u001b[0m\n\u001b[0;32m----> 8\u001b[0;31m           verbose=1)\n\u001b[0m",
      "\u001b[0;32m/Users/Santiago/anaconda/envs/tensorflow/lib/python3.5/site-packages/keras/engine/training.py\u001b[0m in \u001b[0;36mfit\u001b[0;34m(self, x, y, batch_size, epochs, verbose, callbacks, validation_split, validation_data, shuffle, class_weight, sample_weight, initial_epoch, steps_per_epoch, validation_steps, **kwargs)\u001b[0m\n\u001b[1;32m   1703\u001b[0m                               \u001b[0minitial_epoch\u001b[0m\u001b[0;34m=\u001b[0m\u001b[0minitial_epoch\u001b[0m\u001b[0;34m,\u001b[0m\u001b[0;34m\u001b[0m\u001b[0m\n\u001b[1;32m   1704\u001b[0m                               \u001b[0msteps_per_epoch\u001b[0m\u001b[0;34m=\u001b[0m\u001b[0msteps_per_epoch\u001b[0m\u001b[0;34m,\u001b[0m\u001b[0;34m\u001b[0m\u001b[0m\n\u001b[0;32m-> 1705\u001b[0;31m                               validation_steps=validation_steps)\n\u001b[0m\u001b[1;32m   1706\u001b[0m \u001b[0;34m\u001b[0m\u001b[0m\n\u001b[1;32m   1707\u001b[0m     def evaluate(self, x=None, y=None,\n",
      "\u001b[0;32m/Users/Santiago/anaconda/envs/tensorflow/lib/python3.5/site-packages/keras/engine/training.py\u001b[0m in \u001b[0;36m_fit_loop\u001b[0;34m(self, f, ins, out_labels, batch_size, epochs, verbose, callbacks, val_f, val_ins, shuffle, callback_metrics, initial_epoch, steps_per_epoch, validation_steps)\u001b[0m\n\u001b[1;32m   1233\u001b[0m                         \u001b[0mins_batch\u001b[0m\u001b[0;34m[\u001b[0m\u001b[0mi\u001b[0m\u001b[0;34m]\u001b[0m \u001b[0;34m=\u001b[0m \u001b[0mins_batch\u001b[0m\u001b[0;34m[\u001b[0m\u001b[0mi\u001b[0m\u001b[0;34m]\u001b[0m\u001b[0;34m.\u001b[0m\u001b[0mtoarray\u001b[0m\u001b[0;34m(\u001b[0m\u001b[0;34m)\u001b[0m\u001b[0;34m\u001b[0m\u001b[0m\n\u001b[1;32m   1234\u001b[0m \u001b[0;34m\u001b[0m\u001b[0m\n\u001b[0;32m-> 1235\u001b[0;31m                     \u001b[0mouts\u001b[0m \u001b[0;34m=\u001b[0m \u001b[0mf\u001b[0m\u001b[0;34m(\u001b[0m\u001b[0mins_batch\u001b[0m\u001b[0;34m)\u001b[0m\u001b[0;34m\u001b[0m\u001b[0m\n\u001b[0m\u001b[1;32m   1236\u001b[0m                     \u001b[0;32mif\u001b[0m \u001b[0;32mnot\u001b[0m \u001b[0misinstance\u001b[0m\u001b[0;34m(\u001b[0m\u001b[0mouts\u001b[0m\u001b[0;34m,\u001b[0m \u001b[0mlist\u001b[0m\u001b[0;34m)\u001b[0m\u001b[0;34m:\u001b[0m\u001b[0;34m\u001b[0m\u001b[0m\n\u001b[1;32m   1237\u001b[0m                         \u001b[0mouts\u001b[0m \u001b[0;34m=\u001b[0m \u001b[0;34m[\u001b[0m\u001b[0mouts\u001b[0m\u001b[0;34m]\u001b[0m\u001b[0;34m\u001b[0m\u001b[0m\n",
      "\u001b[0;32m/Users/Santiago/anaconda/envs/tensorflow/lib/python3.5/site-packages/keras/backend/tensorflow_backend.py\u001b[0m in \u001b[0;36m__call__\u001b[0;34m(self, inputs)\u001b[0m\n\u001b[1;32m   2476\u001b[0m         \u001b[0msession\u001b[0m \u001b[0;34m=\u001b[0m \u001b[0mget_session\u001b[0m\u001b[0;34m(\u001b[0m\u001b[0;34m)\u001b[0m\u001b[0;34m\u001b[0m\u001b[0m\n\u001b[1;32m   2477\u001b[0m         updated = session.run(fetches=fetches, feed_dict=feed_dict,\n\u001b[0;32m-> 2478\u001b[0;31m                               **self.session_kwargs)\n\u001b[0m\u001b[1;32m   2479\u001b[0m         \u001b[0;32mreturn\u001b[0m \u001b[0mupdated\u001b[0m\u001b[0;34m[\u001b[0m\u001b[0;34m:\u001b[0m\u001b[0mlen\u001b[0m\u001b[0;34m(\u001b[0m\u001b[0mself\u001b[0m\u001b[0;34m.\u001b[0m\u001b[0moutputs\u001b[0m\u001b[0;34m)\u001b[0m\u001b[0;34m]\u001b[0m\u001b[0;34m\u001b[0m\u001b[0m\n\u001b[1;32m   2480\u001b[0m \u001b[0;34m\u001b[0m\u001b[0m\n",
      "\u001b[0;32m/Users/Santiago/anaconda/envs/tensorflow/lib/python3.5/site-packages/tensorflow/python/client/session.py\u001b[0m in \u001b[0;36mrun\u001b[0;34m(self, fetches, feed_dict, options, run_metadata)\u001b[0m\n\u001b[1;32m    903\u001b[0m     \u001b[0;32mtry\u001b[0m\u001b[0;34m:\u001b[0m\u001b[0;34m\u001b[0m\u001b[0m\n\u001b[1;32m    904\u001b[0m       result = self._run(None, fetches, feed_dict, options_ptr,\n\u001b[0;32m--> 905\u001b[0;31m                          run_metadata_ptr)\n\u001b[0m\u001b[1;32m    906\u001b[0m       \u001b[0;32mif\u001b[0m \u001b[0mrun_metadata\u001b[0m\u001b[0;34m:\u001b[0m\u001b[0;34m\u001b[0m\u001b[0m\n\u001b[1;32m    907\u001b[0m         \u001b[0mproto_data\u001b[0m \u001b[0;34m=\u001b[0m \u001b[0mtf_session\u001b[0m\u001b[0;34m.\u001b[0m\u001b[0mTF_GetBuffer\u001b[0m\u001b[0;34m(\u001b[0m\u001b[0mrun_metadata_ptr\u001b[0m\u001b[0;34m)\u001b[0m\u001b[0;34m\u001b[0m\u001b[0m\n",
      "\u001b[0;32m/Users/Santiago/anaconda/envs/tensorflow/lib/python3.5/site-packages/tensorflow/python/client/session.py\u001b[0m in \u001b[0;36m_run\u001b[0;34m(self, handle, fetches, feed_dict, options, run_metadata)\u001b[0m\n\u001b[1;32m   1135\u001b[0m     \u001b[0;32mif\u001b[0m \u001b[0mfinal_fetches\u001b[0m \u001b[0;32mor\u001b[0m \u001b[0mfinal_targets\u001b[0m \u001b[0;32mor\u001b[0m \u001b[0;34m(\u001b[0m\u001b[0mhandle\u001b[0m \u001b[0;32mand\u001b[0m \u001b[0mfeed_dict_tensor\u001b[0m\u001b[0;34m)\u001b[0m\u001b[0;34m:\u001b[0m\u001b[0;34m\u001b[0m\u001b[0m\n\u001b[1;32m   1136\u001b[0m       results = self._do_run(handle, final_targets, final_fetches,\n\u001b[0;32m-> 1137\u001b[0;31m                              feed_dict_tensor, options, run_metadata)\n\u001b[0m\u001b[1;32m   1138\u001b[0m     \u001b[0;32melse\u001b[0m\u001b[0;34m:\u001b[0m\u001b[0;34m\u001b[0m\u001b[0m\n\u001b[1;32m   1139\u001b[0m       \u001b[0mresults\u001b[0m \u001b[0;34m=\u001b[0m \u001b[0;34m[\u001b[0m\u001b[0;34m]\u001b[0m\u001b[0;34m\u001b[0m\u001b[0m\n",
      "\u001b[0;32m/Users/Santiago/anaconda/envs/tensorflow/lib/python3.5/site-packages/tensorflow/python/client/session.py\u001b[0m in \u001b[0;36m_do_run\u001b[0;34m(self, handle, target_list, fetch_list, feed_dict, options, run_metadata)\u001b[0m\n\u001b[1;32m   1353\u001b[0m     \u001b[0;32mif\u001b[0m \u001b[0mhandle\u001b[0m \u001b[0;32mis\u001b[0m \u001b[0;32mNone\u001b[0m\u001b[0;34m:\u001b[0m\u001b[0;34m\u001b[0m\u001b[0m\n\u001b[1;32m   1354\u001b[0m       return self._do_call(_run_fn, self._session, feeds, fetches, targets,\n\u001b[0;32m-> 1355\u001b[0;31m                            options, run_metadata)\n\u001b[0m\u001b[1;32m   1356\u001b[0m     \u001b[0;32melse\u001b[0m\u001b[0;34m:\u001b[0m\u001b[0;34m\u001b[0m\u001b[0m\n\u001b[1;32m   1357\u001b[0m       \u001b[0;32mreturn\u001b[0m \u001b[0mself\u001b[0m\u001b[0;34m.\u001b[0m\u001b[0m_do_call\u001b[0m\u001b[0;34m(\u001b[0m\u001b[0m_prun_fn\u001b[0m\u001b[0;34m,\u001b[0m \u001b[0mself\u001b[0m\u001b[0;34m.\u001b[0m\u001b[0m_session\u001b[0m\u001b[0;34m,\u001b[0m \u001b[0mhandle\u001b[0m\u001b[0;34m,\u001b[0m \u001b[0mfeeds\u001b[0m\u001b[0;34m,\u001b[0m \u001b[0mfetches\u001b[0m\u001b[0;34m)\u001b[0m\u001b[0;34m\u001b[0m\u001b[0m\n",
      "\u001b[0;32m/Users/Santiago/anaconda/envs/tensorflow/lib/python3.5/site-packages/tensorflow/python/client/session.py\u001b[0m in \u001b[0;36m_do_call\u001b[0;34m(self, fn, *args)\u001b[0m\n\u001b[1;32m   1359\u001b[0m   \u001b[0;32mdef\u001b[0m \u001b[0m_do_call\u001b[0m\u001b[0;34m(\u001b[0m\u001b[0mself\u001b[0m\u001b[0;34m,\u001b[0m \u001b[0mfn\u001b[0m\u001b[0;34m,\u001b[0m \u001b[0;34m*\u001b[0m\u001b[0margs\u001b[0m\u001b[0;34m)\u001b[0m\u001b[0;34m:\u001b[0m\u001b[0;34m\u001b[0m\u001b[0m\n\u001b[1;32m   1360\u001b[0m     \u001b[0;32mtry\u001b[0m\u001b[0;34m:\u001b[0m\u001b[0;34m\u001b[0m\u001b[0m\n\u001b[0;32m-> 1361\u001b[0;31m       \u001b[0;32mreturn\u001b[0m \u001b[0mfn\u001b[0m\u001b[0;34m(\u001b[0m\u001b[0;34m*\u001b[0m\u001b[0margs\u001b[0m\u001b[0;34m)\u001b[0m\u001b[0;34m\u001b[0m\u001b[0m\n\u001b[0m\u001b[1;32m   1362\u001b[0m     \u001b[0;32mexcept\u001b[0m \u001b[0merrors\u001b[0m\u001b[0;34m.\u001b[0m\u001b[0mOpError\u001b[0m \u001b[0;32mas\u001b[0m \u001b[0me\u001b[0m\u001b[0;34m:\u001b[0m\u001b[0;34m\u001b[0m\u001b[0m\n\u001b[1;32m   1363\u001b[0m       \u001b[0mmessage\u001b[0m \u001b[0;34m=\u001b[0m \u001b[0mcompat\u001b[0m\u001b[0;34m.\u001b[0m\u001b[0mas_text\u001b[0m\u001b[0;34m(\u001b[0m\u001b[0me\u001b[0m\u001b[0;34m.\u001b[0m\u001b[0mmessage\u001b[0m\u001b[0;34m)\u001b[0m\u001b[0;34m\u001b[0m\u001b[0m\n",
      "\u001b[0;32m/Users/Santiago/anaconda/envs/tensorflow/lib/python3.5/site-packages/tensorflow/python/client/session.py\u001b[0m in \u001b[0;36m_run_fn\u001b[0;34m(session, feed_dict, fetch_list, target_list, options, run_metadata)\u001b[0m\n\u001b[1;32m   1338\u001b[0m         \u001b[0;32melse\u001b[0m\u001b[0;34m:\u001b[0m\u001b[0;34m\u001b[0m\u001b[0m\n\u001b[1;32m   1339\u001b[0m           return tf_session.TF_Run(session, options, feed_dict, fetch_list,\n\u001b[0;32m-> 1340\u001b[0;31m                                    target_list, status, run_metadata)\n\u001b[0m\u001b[1;32m   1341\u001b[0m \u001b[0;34m\u001b[0m\u001b[0m\n\u001b[1;32m   1342\u001b[0m     \u001b[0;32mdef\u001b[0m \u001b[0m_prun_fn\u001b[0m\u001b[0;34m(\u001b[0m\u001b[0msession\u001b[0m\u001b[0;34m,\u001b[0m \u001b[0mhandle\u001b[0m\u001b[0;34m,\u001b[0m \u001b[0mfeed_dict\u001b[0m\u001b[0;34m,\u001b[0m \u001b[0mfetch_list\u001b[0m\u001b[0;34m)\u001b[0m\u001b[0;34m:\u001b[0m\u001b[0;34m\u001b[0m\u001b[0m\n",
      "\u001b[0;31mKeyboardInterrupt\u001b[0m: "
     ]
    }
   ],
   "source": [
    "epochs = 100\n",
    "\n",
    "decoder_model.compile(loss=keras.losses.mse,#binary_crossentropy\n",
    "              optimizer=keras.optimizers.Adam(lr=.1),metrics=['mae'])\n",
    "decoder_model.fit(x_train, dil_x_train,\n",
    "          batch_size=batch_size,\n",
    "          epochs=epochs,\n",
    "          verbose=1)\n"
   ]
  },
  {
   "cell_type": "code",
   "execution_count": 18,
   "metadata": {},
   "outputs": [
    {
     "name": "stdout",
     "output_type": "stream",
     "text": [
      "input_1\n",
      "flatten_1\n",
      "MaxPlus7\n",
      "1\n",
      "(784, 784)\n",
      "0.0 1.0\n",
      "reshape_1\n"
     ]
    }
   ],
   "source": [
    "for layer in decoder_model.layers:\n",
    "    print(layer.name)\n",
    "    if layer.name=='MaxPlus7':\n",
    "        D11 = layer.get_weights()\n",
    "        print(len(D11))\n",
    "        print(D11[0].shape)\n",
    "        print(D11[0].min(),D11[0].max())\n",
    "\n",
    "\n",
    "    if layer.name=='MaxPlus8':\n",
    "        D12 = layer.get_weights()\n",
    "        print(len(D12))\n",
    "        print(D12[0].shape)\n",
    "        print(D12[0].min(),D12[0].max())\n",
    "        "
   ]
  },
  {
   "cell_type": "code",
   "execution_count": 19,
   "metadata": {},
   "outputs": [
    {
     "data": {
      "image/png": "[encoded data removed]",
      "text/plain": [
       "<Figure size 432x288 with 1 Axes>"
      ]
     },
     "metadata": {},
     "output_type": "display_data"
    },
    {
     "data": {
      "image/png": "[encoded data removed]",
      "text/plain": [
       "<Figure size 432x288 with 1 Axes>"
      ]
     },
     "metadata": {},
     "output_type": "display_data"
    },
    {
     "data": {
      "image/png": "[encoded data removed]",
      "text/plain": [
       "<Figure size 432x288 with 1 Axes>"
      ]
     },
     "metadata": {},
     "output_type": "display_data"
    },
    {
     "name": "stdout",
     "output_type": "stream",
     "text": [
      "0.0\n",
      "1.0\n"
     ]
    },
    {
     "data": {
      "image/png": "[encoded data removed]",
      "text/plain": [
       "<Figure size 432x288 with 1 Axes>"
      ]
     },
     "metadata": {},
     "output_type": "display_data"
    },
    {
     "data": {
      "image/png": "[encoded data removed]",
      "text/plain": [
       "<Figure size 432x288 with 1 Axes>"
      ]
     },
     "metadata": {},
     "output_type": "display_data"
    },
    {
     "name": "stdout",
     "output_type": "stream",
     "text": [
      "0.0\n",
      "0.0\n"
     ]
    },
    {
     "data": {
      "image/png": "[encoded data removed]",
      "text/plain": [
       "<Figure size 432x288 with 1 Axes>"
      ]
     },
     "metadata": {},
     "output_type": "display_data"
    },
    {
     "data": {
      "image/png": "[encoded data removed]",
      "text/plain": [
       "<Figure size 432x288 with 1 Axes>"
      ]
     },
     "metadata": {},
     "output_type": "display_data"
    },
    {
     "data": {
      "image/png": "[encoded data removed]",
      "text/plain": [
       "<Figure size 432x288 with 1 Axes>"
      ]
     },
     "metadata": {},
     "output_type": "display_data"
    },
    {
     "data": {
      "image/png": "[encoded data removed]",
      "text/plain": [
       "<Figure size 432x288 with 1 Axes>"
      ]
     },
     "metadata": {},
     "output_type": "display_data"
    }
   ],
   "source": [
    "\n",
    "plt.imshow(D11[0])\n",
    "plt.show()\n",
    "plt.imshow(np.reshape(D11[0][400,:],[28,28]))\n",
    "plt.show()\n",
    "plt.imshow(np.reshape(D11[0][400,:]==0,[28,28]))\n",
    "plt.show()\n",
    "print(D11[0][400,:].min())\n",
    "print(D11[0][400,:].max())\n",
    "\n",
    "\n",
    "plt.imshow(np.reshape(D11[0][1,:],[28,28]))\n",
    "plt.show()\n",
    "plt.imshow(np.reshape(D11[0][1,:]==0,[28,28]))\n",
    "plt.show()\n",
    "print(D11[0][1,:].min())\n",
    "print(D11[0][1,:].max())\n",
    "\n",
    "\n",
    "plt.imshow(np.reshape(D11[0][410,:],[28,28]))\n",
    "plt.show()\n",
    "plt.imshow(np.reshape(D11[0][410,:]==0,[28,28]))\n",
    "plt.show()\n",
    "\n",
    "plt.imshow(np.reshape(D11[0][600,:],[28,28]))\n",
    "plt.show()\n",
    "plt.imshow(np.reshape(D11[0][600,:]==0,[28,28]))\n",
    "plt.show()\n",
    "\n",
    "#print(D11[0][400,:])\n",
    "#plt.imshow(D12[0])\n",
    "#plt.show()\n",
    "#plt.imshow(np.reshape(D12[0][:,200],[28,28]))\n",
    "#plt.show()"
   ]
  },
  {
   "cell_type": "code",
   "execution_count": 12,
   "metadata": {
    "collapsed": true
   },
   "outputs": [],
   "source": [
    "pred=decoder_model.predict(x_train[:,:,:,:])"
   ]
  },
  {
   "cell_type": "code",
   "execution_count": 13,
   "metadata": {
    "scrolled": true
   },
   "outputs": [
    {
     "name": "stdout",
     "output_type": "stream",
     "text": [
      "(240, 28, 28, 1)\n",
      "(240, 28, 28, 1)\n"
     ]
    }
   ],
   "source": [
    "print(pred.shape)\n",
    "print(x_train.shape)\n"
   ]
  },
  {
   "cell_type": "code",
   "execution_count": 14,
   "metadata": {
    "collapsed": true
   },
   "outputs": [],
   "source": [
    "error=np.sum(np.sum(abs(pred-dil_x_train),axis=1),axis=1)\n",
    "v=np.argsort(error,axis=0)"
   ]
  },
  {
   "cell_type": "code",
   "execution_count": 15,
   "metadata": {},
   "outputs": [
    {
     "data": {
      "image/png": "[encoded data removed]",
      "text/plain": [
       "<Figure size 432x288 with 1 Axes>"
      ]
     },
     "metadata": {},
     "output_type": "display_data"
    },
    {
     "data": {
      "image/png": "[encoded data removed]",
      "text/plain": [
       "<Figure size 432x288 with 1 Axes>"
      ]
     },
     "metadata": {},
     "output_type": "display_data"
    },
    {
     "data": {
      "image/png": "[encoded data removed]",
      "text/plain": [
       "<Figure size 432x288 with 1 Axes>"
      ]
     },
     "metadata": {},
     "output_type": "display_data"
    },
    {
     "data": {
      "image/png": "[encoded data removed]",
      "text/plain": [
       "<Figure size 432x288 with 1 Axes>"
      ]
     },
     "metadata": {},
     "output_type": "display_data"
    },
    {
     "data": {
      "image/png": "[encoded data removed]",
      "text/plain": [
       "<Figure size 432x288 with 1 Axes>"
      ]
     },
     "metadata": {},
     "output_type": "display_data"
    },
    {
     "data": {
      "image/png": "[encoded data removed]",
      "text/plain": [
       "<Figure size 432x288 with 1 Axes>"
      ]
     },
     "metadata": {},
     "output_type": "display_data"
    },
    {
     "data": {
      "image/png": "[encoded data removed]",
      "text/plain": [
       "<Figure size 432x288 with 1 Axes>"
      ]
     },
     "metadata": {},
     "output_type": "display_data"
    },
    {
     "data": {
      "image/png": "[encoded data removed]",
      "text/plain": [
       "<Figure size 432x288 with 1 Axes>"
      ]
     },
     "metadata": {},
     "output_type": "display_data"
    }
   ],
   "source": [
    "plt.imshow(pred[v[0][0],:,:,0])\n",
    "plt.title(error[v[0][0]])\n",
    "plt.show()\n",
    "plt.imshow(dil_x_train[v[0][0],:,:,0])\n",
    "plt.show()\n",
    "\n",
    "plt.imshow(pred[v[11][0],:,:,0])\n",
    "plt.title(error[v[11][0]])\n",
    "plt.show()\n",
    "plt.imshow(dil_x_train[v[11][0],:,:,0])\n",
    "plt.show()\n",
    "\n",
    "plt.imshow(pred[v[-10][0],:,:,0])\n",
    "plt.title(error[v[-10][0]])\n",
    "plt.show()\n",
    "plt.imshow(dil_x_train[v[-100][0],:,:,0])\n",
    "plt.show()\n",
    "\n",
    "plt.imshow(pred[v[-1][0],:,:,0])\n",
    "plt.title(error[v[-1][0]])\n",
    "plt.show()\n",
    "plt.imshow(dil_x_train[v[-1][0],:,:,0])\n",
    "plt.show()"
   ]
  },
  {
   "cell_type": "code",
   "execution_count": 16,
   "metadata": {},
   "outputs": [
    {
     "data": {
      "text/plain": [
       "0.0"
      ]
     },
     "execution_count": 16,
     "metadata": {},
     "output_type": "execute_result"
    }
   ],
   "source": [
    "D11[0].min()"
   ]
  },
  {
   "cell_type": "code",
   "execution_count": null,
   "metadata": {
    "collapsed": true
   },
   "outputs": [],
   "source": []
  },
  {
   "cell_type": "code",
   "execution_count": 17,
   "metadata": {},
   "outputs": [
    {
     "data": {
      "text/plain": [
       "0"
      ]
     },
     "execution_count": 17,
     "metadata": {},
     "output_type": "execute_result"
    }
   ],
   "source": [
    "(i+1)%2"
   ]
  },
  {
   "cell_type": "code",
   "execution_count": null,
   "metadata": {
    "collapsed": true
   },
   "outputs": [],
   "source": []
  }
 ],
 "metadata": {
  "kernelspec": {
   "display_name": "Python 3",
   "language": "python",
   "name": "python3"
  },
  "language_info": {
   "codemirror_mode": {
    "name": "ipython",
    "version": 3
   },
   "file_extension": ".py",
   "mimetype": "text/x-python",
   "name": "python",
   "nbconvert_exporter": "python",
   "pygments_lexer": "ipython3",
   "version": "3.6.3"
  }
 },
 "nbformat": 4,
 "nbformat_minor": 2
}
