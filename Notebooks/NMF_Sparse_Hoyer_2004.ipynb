{
 "cells": [
  {
   "cell_type": "markdown",
   "metadata": {},
   "source": [
    "### Python implementation of the NMF with Sparsity Constraint proposed by Hoyer 2004"
   ]
  },
  {
   "cell_type": "code",
   "execution_count": null,
   "metadata": {
    "collapsed": true
   },
   "outputs": [],
   "source": [
    "def nmfsc(X, rdim=100, objective_sparseness_W=0, objective_sparseness_H=0, showflag):\n",
    "    \"\"\" nmfsc - non-negative matrix factorization with sparseness constraints\n",
    " \n",
    "         INPUTS:\n",
    "         X          - numpy array (nb_features, nb_samples)\n",
    "         rdim       - number of components (inner dimension of factorization)\n",
    "         sW         - sparseness of W, in [0,1]. (give [] if no constraint)\n",
    "         sH         - sparseness of H, in [0,1]. (give [] if no constraint)\n",
    "         fname      - name of file to write results into\n",
    "         showflag   - binary flag. if set then graphically show progress\n",
    "\n",
    "         Note: Sparseness is measured on the scale [0,1] where 0 means\n",
    "         completely distributed and 1 means ultimate sparseness.\n",
    "\n",
    "         NOTE: There is NO CONVERGENCE CRITERION. The estimation never ends,\n",
    "         but rather has to be terminated manually. See README file of code \n",
    "         package for details. \n",
    "\n",
    "\n",
    "         Check that we have non-negative data\n",
    "    \"\"\""
   ]
  }
 ],
 "metadata": {
  "kernelspec": {
   "display_name": "StageCMM",
   "language": "python",
   "name": "stageenv"
  },
  "language_info": {
   "codemirror_mode": {
    "name": "ipython",
    "version": 3
   },
   "file_extension": ".py",
   "mimetype": "text/x-python",
   "name": "python",
   "nbconvert_exporter": "python",
   "pygments_lexer": "ipython3",
   "version": "3.6.6"
  }
 },
 "nbformat": 4,
 "nbformat_minor": 2
}
